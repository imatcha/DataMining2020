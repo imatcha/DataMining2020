{
  "nbformat": 4,
  "nbformat_minor": 0,
  "metadata": {
    "kernelspec": {
      "display_name": "Python 3",
      "language": "python",
      "name": "python3"
    },
    "language_info": {
      "codemirror_mode": {
        "name": "ipython",
        "version": 3
      },
      "file_extension": ".py",
      "mimetype": "text/x-python",
      "name": "python",
      "nbconvert_exporter": "python",
      "pygments_lexer": "ipython3",
      "version": "3.6.6"
    },
    "colab": {
      "name": "108971014_DM_Tutorial.ipynb",
      "provenance": [],
      "collapsed_sections": [],
      "include_colab_link": true
    }
  },
  "cells": [
    {
      "cell_type": "markdown",
      "metadata": {
        "id": "view-in-github",
        "colab_type": "text"
      },
      "source": [
        "<a href=\"https://colab.research.google.com/github/imatcha/DataMining2020/blob/master/108971014_DM_Tutorial.ipynb\" target=\"_parent\"><img src=\"https://colab.research.google.com/assets/colab-badge.svg\" alt=\"Open In Colab\"/></a>"
      ]
    },
    {
      "cell_type": "markdown",
      "metadata": {
        "id": "q6W2oj_m_tcv",
        "colab_type": "text"
      },
      "source": [
        "###在 colab mount 一個自己的資料夾空間"
      ]
    },
    {
      "cell_type": "code",
      "metadata": {
        "id": "vps7MFJ-_vZw",
        "colab_type": "code",
        "colab": {
          "base_uri": "https://localhost:8080/",
          "height": 122
        },
        "outputId": "9a9a9dae-6524-47ca-8a31-7db6b7a4a089"
      },
      "source": [
        "from google.colab import drive\n",
        "drive.mount('/content/gDrive')"
      ],
      "execution_count": null,
      "outputs": [
        {
          "output_type": "stream",
          "text": [
            "Go to this URL in a browser: https://accounts.google.com/o/oauth2/auth?client_id=947318989803-6bn6qk8qdgf4n4g3pfee6491hc0brc4i.apps.googleusercontent.com&redirect_uri=urn%3aietf%3awg%3aoauth%3a2.0%3aoob&response_type=code&scope=email%20https%3a%2f%2fwww.googleapis.com%2fauth%2fdocs.test%20https%3a%2f%2fwww.googleapis.com%2fauth%2fdrive%20https%3a%2f%2fwww.googleapis.com%2fauth%2fdrive.photos.readonly%20https%3a%2f%2fwww.googleapis.com%2fauth%2fpeopleapi.readonly\n",
            "\n",
            "Enter your authorization code:\n",
            "··········\n",
            "Mounted at /content/gDrive\n"
          ],
          "name": "stdout"
        }
      ]
    },
    {
      "cell_type": "code",
      "metadata": {
        "id": "VCHJV6QT7rqt",
        "colab_type": "code",
        "colab": {}
      },
      "source": [
        "## Import Library ##\n",
        "import pandas as pd\n",
        "import numpy as np\n",
        "import matplotlib.pyplot as plt\n",
        "import seaborn as sns\n",
        "\n",
        "## For Data Encoding ##\n",
        "from sklearn.preprocessing import LabelEncoder\n",
        "\n",
        "## For Model Evaluation ##\n",
        "from sklearn.model_selection import KFold\n",
        "\n",
        "## Machine Learning Model ##\n",
        "from sklearn.ensemble import RandomForestClassifier\n",
        "from sklearn.tree import DecisionTreeClassifier\n",
        "from sklearn.linear_model import LogisticRegression\n",
        "from sklearn.linear_model import LinearRegression\n",
        "from sklearn.ensemble import GradientBoostingClassifier #my_add\n",
        "from sklearn.neighbors import KNeighborsClassifier  #my_add\n",
        "from sklearn.ensemble import AdaBoostClassifier #my_add\n",
        "\n",
        "## For Model Performance ##\n",
        "from sklearn.metrics import accuracy_score, confusion_matrix, precision_score, recall_score, f1_score\n"
      ],
      "execution_count": null,
      "outputs": []
    },
    {
      "cell_type": "code",
      "metadata": {
        "id": "8sOG2-Cs7rqx",
        "colab_type": "code",
        "colab": {}
      },
      "source": [
        "## Model Performance\n",
        "def evaluation(gt, pred):\n",
        "    acc = accuracy_score(gt, pred)\n",
        "    precision = precision_score(gt, pred)\n",
        "    recall = recall_score(gt, pred)\n",
        "    f1 = f1_score(gt, pred)\n",
        "    matrix = confusion_matrix(gt, pred)\n",
        "    \n",
        "    return acc, precision, recall, f1, matrix"
      ],
      "execution_count": null,
      "outputs": []
    },
    {
      "cell_type": "code",
      "metadata": {
        "id": "ZLNAUMiu7rqz",
        "colab_type": "code",
        "colab": {}
      },
      "source": [
        "path = '/content/gDrive/My Drive/DM2020-master/'\n",
        "raw_data = pd.read_csv(path + \"./EmployeeAttrition.csv\", index_col=0)\n",
        "#raw_data = pd.read_csv(\"./EmployeeAttrition.csv\", index_col=0)"
      ],
      "execution_count": null,
      "outputs": []
    },
    {
      "cell_type": "code",
      "metadata": {
        "id": "XmJTG4ax7rq2",
        "colab_type": "code",
        "colab": {
          "base_uri": "https://localhost:8080/",
          "height": 609
        },
        "outputId": "6fb57f0b-7954-4c4d-ee35-e48ea06e59fb"
      },
      "source": [
        "raw_data"
      ],
      "execution_count": null,
      "outputs": [
        {
          "output_type": "execute_result",
          "data": {
            "text/html": [
              "<div>\n",
              "<style scoped>\n",
              "    .dataframe tbody tr th:only-of-type {\n",
              "        vertical-align: middle;\n",
              "    }\n",
              "\n",
              "    .dataframe tbody tr th {\n",
              "        vertical-align: top;\n",
              "    }\n",
              "\n",
              "    .dataframe thead th {\n",
              "        text-align: right;\n",
              "    }\n",
              "</style>\n",
              "<table border=\"1\" class=\"dataframe\">\n",
              "  <thead>\n",
              "    <tr style=\"text-align: right;\">\n",
              "      <th></th>\n",
              "      <th>Age</th>\n",
              "      <th>Attrition</th>\n",
              "      <th>BusinessTravel</th>\n",
              "      <th>Department</th>\n",
              "      <th>DistanceFromHome</th>\n",
              "      <th>Education</th>\n",
              "      <th>EducationField</th>\n",
              "      <th>EmployeeNumber</th>\n",
              "      <th>EnvironmentSatisfaction</th>\n",
              "      <th>Gender</th>\n",
              "      <th>JobInvolvement</th>\n",
              "      <th>JobLevel</th>\n",
              "      <th>JobRole</th>\n",
              "      <th>JobSatisfaction</th>\n",
              "      <th>MaritalStatus</th>\n",
              "      <th>MonthlyIncome</th>\n",
              "      <th>NumCompaniesWorked</th>\n",
              "      <th>PerformanceRating</th>\n",
              "      <th>RelationshipSatisfaction</th>\n",
              "      <th>StockOptionLevel</th>\n",
              "      <th>TotalWorkingYears</th>\n",
              "      <th>TrainingTimesLastYear</th>\n",
              "      <th>WorkLifeBalance</th>\n",
              "      <th>YearsAtCompany</th>\n",
              "      <th>YearsInCurrentRole</th>\n",
              "      <th>YearsSinceLastPromotion</th>\n",
              "      <th>YearsWithCurrManager</th>\n",
              "    </tr>\n",
              "  </thead>\n",
              "  <tbody>\n",
              "    <tr>\n",
              "      <th>0</th>\n",
              "      <td>41</td>\n",
              "      <td>Yes</td>\n",
              "      <td>Travel_Rarely</td>\n",
              "      <td>Sales</td>\n",
              "      <td>1</td>\n",
              "      <td>2</td>\n",
              "      <td>Life Sciences</td>\n",
              "      <td>1</td>\n",
              "      <td>2</td>\n",
              "      <td>Female</td>\n",
              "      <td>3</td>\n",
              "      <td>2</td>\n",
              "      <td>Sales Executive</td>\n",
              "      <td>4</td>\n",
              "      <td>Single</td>\n",
              "      <td>5993</td>\n",
              "      <td>8</td>\n",
              "      <td>3</td>\n",
              "      <td>1</td>\n",
              "      <td>0</td>\n",
              "      <td>8</td>\n",
              "      <td>0</td>\n",
              "      <td>1</td>\n",
              "      <td>6</td>\n",
              "      <td>4</td>\n",
              "      <td>0</td>\n",
              "      <td>5</td>\n",
              "    </tr>\n",
              "    <tr>\n",
              "      <th>1</th>\n",
              "      <td>49</td>\n",
              "      <td>No</td>\n",
              "      <td>Travel_Frequently</td>\n",
              "      <td>Research &amp; Development</td>\n",
              "      <td>8</td>\n",
              "      <td>1</td>\n",
              "      <td>Life Sciences</td>\n",
              "      <td>2</td>\n",
              "      <td>3</td>\n",
              "      <td>Male</td>\n",
              "      <td>2</td>\n",
              "      <td>2</td>\n",
              "      <td>Research Scientist</td>\n",
              "      <td>2</td>\n",
              "      <td>Married</td>\n",
              "      <td>5130</td>\n",
              "      <td>1</td>\n",
              "      <td>4</td>\n",
              "      <td>4</td>\n",
              "      <td>1</td>\n",
              "      <td>10</td>\n",
              "      <td>3</td>\n",
              "      <td>3</td>\n",
              "      <td>10</td>\n",
              "      <td>7</td>\n",
              "      <td>1</td>\n",
              "      <td>7</td>\n",
              "    </tr>\n",
              "    <tr>\n",
              "      <th>2</th>\n",
              "      <td>37</td>\n",
              "      <td>Yes</td>\n",
              "      <td>Travel_Rarely</td>\n",
              "      <td>Research &amp; Development</td>\n",
              "      <td>2</td>\n",
              "      <td>2</td>\n",
              "      <td>Other</td>\n",
              "      <td>4</td>\n",
              "      <td>4</td>\n",
              "      <td>Male</td>\n",
              "      <td>2</td>\n",
              "      <td>1</td>\n",
              "      <td>Laboratory Technician</td>\n",
              "      <td>3</td>\n",
              "      <td>Single</td>\n",
              "      <td>2090</td>\n",
              "      <td>6</td>\n",
              "      <td>3</td>\n",
              "      <td>2</td>\n",
              "      <td>0</td>\n",
              "      <td>7</td>\n",
              "      <td>3</td>\n",
              "      <td>3</td>\n",
              "      <td>0</td>\n",
              "      <td>0</td>\n",
              "      <td>0</td>\n",
              "      <td>0</td>\n",
              "    </tr>\n",
              "    <tr>\n",
              "      <th>3</th>\n",
              "      <td>33</td>\n",
              "      <td>No</td>\n",
              "      <td>Travel_Frequently</td>\n",
              "      <td>Research &amp; Development</td>\n",
              "      <td>3</td>\n",
              "      <td>4</td>\n",
              "      <td>Life Sciences</td>\n",
              "      <td>5</td>\n",
              "      <td>4</td>\n",
              "      <td>Female</td>\n",
              "      <td>3</td>\n",
              "      <td>1</td>\n",
              "      <td>Research Scientist</td>\n",
              "      <td>3</td>\n",
              "      <td>Married</td>\n",
              "      <td>2909</td>\n",
              "      <td>1</td>\n",
              "      <td>3</td>\n",
              "      <td>3</td>\n",
              "      <td>0</td>\n",
              "      <td>8</td>\n",
              "      <td>3</td>\n",
              "      <td>3</td>\n",
              "      <td>8</td>\n",
              "      <td>7</td>\n",
              "      <td>3</td>\n",
              "      <td>0</td>\n",
              "    </tr>\n",
              "    <tr>\n",
              "      <th>4</th>\n",
              "      <td>27</td>\n",
              "      <td>No</td>\n",
              "      <td>Travel_Rarely</td>\n",
              "      <td>Research &amp; Development</td>\n",
              "      <td>2</td>\n",
              "      <td>1</td>\n",
              "      <td>Medical</td>\n",
              "      <td>7</td>\n",
              "      <td>1</td>\n",
              "      <td>Male</td>\n",
              "      <td>3</td>\n",
              "      <td>1</td>\n",
              "      <td>Laboratory Technician</td>\n",
              "      <td>2</td>\n",
              "      <td>Married</td>\n",
              "      <td>3468</td>\n",
              "      <td>9</td>\n",
              "      <td>3</td>\n",
              "      <td>4</td>\n",
              "      <td>1</td>\n",
              "      <td>6</td>\n",
              "      <td>3</td>\n",
              "      <td>3</td>\n",
              "      <td>2</td>\n",
              "      <td>2</td>\n",
              "      <td>2</td>\n",
              "      <td>2</td>\n",
              "    </tr>\n",
              "    <tr>\n",
              "      <th>...</th>\n",
              "      <td>...</td>\n",
              "      <td>...</td>\n",
              "      <td>...</td>\n",
              "      <td>...</td>\n",
              "      <td>...</td>\n",
              "      <td>...</td>\n",
              "      <td>...</td>\n",
              "      <td>...</td>\n",
              "      <td>...</td>\n",
              "      <td>...</td>\n",
              "      <td>...</td>\n",
              "      <td>...</td>\n",
              "      <td>...</td>\n",
              "      <td>...</td>\n",
              "      <td>...</td>\n",
              "      <td>...</td>\n",
              "      <td>...</td>\n",
              "      <td>...</td>\n",
              "      <td>...</td>\n",
              "      <td>...</td>\n",
              "      <td>...</td>\n",
              "      <td>...</td>\n",
              "      <td>...</td>\n",
              "      <td>...</td>\n",
              "      <td>...</td>\n",
              "      <td>...</td>\n",
              "      <td>...</td>\n",
              "    </tr>\n",
              "    <tr>\n",
              "      <th>1465</th>\n",
              "      <td>36</td>\n",
              "      <td>No</td>\n",
              "      <td>Travel_Frequently</td>\n",
              "      <td>Research &amp; Development</td>\n",
              "      <td>23</td>\n",
              "      <td>2</td>\n",
              "      <td>Medical</td>\n",
              "      <td>2061</td>\n",
              "      <td>3</td>\n",
              "      <td>Male</td>\n",
              "      <td>4</td>\n",
              "      <td>2</td>\n",
              "      <td>Laboratory Technician</td>\n",
              "      <td>4</td>\n",
              "      <td>Married</td>\n",
              "      <td>2571</td>\n",
              "      <td>4</td>\n",
              "      <td>3</td>\n",
              "      <td>3</td>\n",
              "      <td>1</td>\n",
              "      <td>17</td>\n",
              "      <td>3</td>\n",
              "      <td>3</td>\n",
              "      <td>5</td>\n",
              "      <td>2</td>\n",
              "      <td>0</td>\n",
              "      <td>3</td>\n",
              "    </tr>\n",
              "    <tr>\n",
              "      <th>1466</th>\n",
              "      <td>39</td>\n",
              "      <td>No</td>\n",
              "      <td>Travel_Rarely</td>\n",
              "      <td>Research &amp; Development</td>\n",
              "      <td>6</td>\n",
              "      <td>1</td>\n",
              "      <td>Medical</td>\n",
              "      <td>2062</td>\n",
              "      <td>4</td>\n",
              "      <td>Male</td>\n",
              "      <td>2</td>\n",
              "      <td>3</td>\n",
              "      <td>Healthcare Representative</td>\n",
              "      <td>1</td>\n",
              "      <td>Married</td>\n",
              "      <td>9991</td>\n",
              "      <td>4</td>\n",
              "      <td>3</td>\n",
              "      <td>1</td>\n",
              "      <td>1</td>\n",
              "      <td>9</td>\n",
              "      <td>5</td>\n",
              "      <td>3</td>\n",
              "      <td>7</td>\n",
              "      <td>7</td>\n",
              "      <td>1</td>\n",
              "      <td>7</td>\n",
              "    </tr>\n",
              "    <tr>\n",
              "      <th>1467</th>\n",
              "      <td>27</td>\n",
              "      <td>No</td>\n",
              "      <td>Travel_Rarely</td>\n",
              "      <td>Research &amp; Development</td>\n",
              "      <td>4</td>\n",
              "      <td>3</td>\n",
              "      <td>Life Sciences</td>\n",
              "      <td>2064</td>\n",
              "      <td>2</td>\n",
              "      <td>Male</td>\n",
              "      <td>4</td>\n",
              "      <td>2</td>\n",
              "      <td>Manufacturing Director</td>\n",
              "      <td>2</td>\n",
              "      <td>Married</td>\n",
              "      <td>6142</td>\n",
              "      <td>1</td>\n",
              "      <td>4</td>\n",
              "      <td>2</td>\n",
              "      <td>1</td>\n",
              "      <td>6</td>\n",
              "      <td>0</td>\n",
              "      <td>3</td>\n",
              "      <td>6</td>\n",
              "      <td>2</td>\n",
              "      <td>0</td>\n",
              "      <td>3</td>\n",
              "    </tr>\n",
              "    <tr>\n",
              "      <th>1468</th>\n",
              "      <td>49</td>\n",
              "      <td>No</td>\n",
              "      <td>Travel_Frequently</td>\n",
              "      <td>Sales</td>\n",
              "      <td>2</td>\n",
              "      <td>3</td>\n",
              "      <td>Medical</td>\n",
              "      <td>2065</td>\n",
              "      <td>4</td>\n",
              "      <td>Male</td>\n",
              "      <td>2</td>\n",
              "      <td>2</td>\n",
              "      <td>Sales Executive</td>\n",
              "      <td>2</td>\n",
              "      <td>Married</td>\n",
              "      <td>5390</td>\n",
              "      <td>2</td>\n",
              "      <td>3</td>\n",
              "      <td>4</td>\n",
              "      <td>0</td>\n",
              "      <td>17</td>\n",
              "      <td>3</td>\n",
              "      <td>2</td>\n",
              "      <td>9</td>\n",
              "      <td>6</td>\n",
              "      <td>0</td>\n",
              "      <td>8</td>\n",
              "    </tr>\n",
              "    <tr>\n",
              "      <th>1469</th>\n",
              "      <td>34</td>\n",
              "      <td>No</td>\n",
              "      <td>Travel_Rarely</td>\n",
              "      <td>Research &amp; Development</td>\n",
              "      <td>8</td>\n",
              "      <td>3</td>\n",
              "      <td>Medical</td>\n",
              "      <td>2068</td>\n",
              "      <td>2</td>\n",
              "      <td>Male</td>\n",
              "      <td>4</td>\n",
              "      <td>2</td>\n",
              "      <td>Laboratory Technician</td>\n",
              "      <td>3</td>\n",
              "      <td>Married</td>\n",
              "      <td>4404</td>\n",
              "      <td>2</td>\n",
              "      <td>3</td>\n",
              "      <td>1</td>\n",
              "      <td>0</td>\n",
              "      <td>6</td>\n",
              "      <td>3</td>\n",
              "      <td>4</td>\n",
              "      <td>4</td>\n",
              "      <td>3</td>\n",
              "      <td>1</td>\n",
              "      <td>2</td>\n",
              "    </tr>\n",
              "  </tbody>\n",
              "</table>\n",
              "<p>1470 rows × 27 columns</p>\n",
              "</div>"
            ],
            "text/plain": [
              "      Age Attrition  ... YearsSinceLastPromotion YearsWithCurrManager\n",
              "0      41       Yes  ...                       0                    5\n",
              "1      49        No  ...                       1                    7\n",
              "2      37       Yes  ...                       0                    0\n",
              "3      33        No  ...                       3                    0\n",
              "4      27        No  ...                       2                    2\n",
              "...   ...       ...  ...                     ...                  ...\n",
              "1465   36        No  ...                       0                    3\n",
              "1466   39        No  ...                       1                    7\n",
              "1467   27        No  ...                       0                    3\n",
              "1468   49        No  ...                       0                    8\n",
              "1469   34        No  ...                       1                    2\n",
              "\n",
              "[1470 rows x 27 columns]"
            ]
          },
          "metadata": {
            "tags": []
          },
          "execution_count": 34
        }
      ]
    },
    {
      "cell_type": "code",
      "metadata": {
        "id": "3DAIhr9t7rq5",
        "colab_type": "code",
        "colab": {
          "base_uri": "https://localhost:8080/",
          "height": 170
        },
        "outputId": "2302a1e0-d4e9-482e-8971-d9acca064964"
      },
      "source": [
        "raw_data.columns"
      ],
      "execution_count": null,
      "outputs": [
        {
          "output_type": "execute_result",
          "data": {
            "text/plain": [
              "Index(['Age', 'Attrition', 'BusinessTravel', 'Department', 'DistanceFromHome',\n",
              "       'Education', 'EducationField', 'EmployeeNumber',\n",
              "       'EnvironmentSatisfaction', 'Gender', 'JobInvolvement', 'JobLevel',\n",
              "       'JobRole', 'JobSatisfaction', 'MaritalStatus', 'MonthlyIncome',\n",
              "       'NumCompaniesWorked', 'PerformanceRating', 'RelationshipSatisfaction',\n",
              "       'StockOptionLevel', 'TotalWorkingYears', 'TrainingTimesLastYear',\n",
              "       'WorkLifeBalance', 'YearsAtCompany', 'YearsInCurrentRole',\n",
              "       'YearsSinceLastPromotion', 'YearsWithCurrManager'],\n",
              "      dtype='object')"
            ]
          },
          "metadata": {
            "tags": []
          },
          "execution_count": 35
        }
      ]
    },
    {
      "cell_type": "code",
      "metadata": {
        "id": "9whhO3mv7rq7",
        "colab_type": "code",
        "colab": {
          "base_uri": "https://localhost:8080/",
          "height": 595
        },
        "outputId": "051b9240-f53a-47db-96ad-b733c218f589"
      },
      "source": [
        "raw_data.info()"
      ],
      "execution_count": null,
      "outputs": [
        {
          "output_type": "stream",
          "text": [
            "<class 'pandas.core.frame.DataFrame'>\n",
            "Int64Index: 1470 entries, 0 to 1469\n",
            "Data columns (total 27 columns):\n",
            " #   Column                    Non-Null Count  Dtype \n",
            "---  ------                    --------------  ----- \n",
            " 0   Age                       1470 non-null   int64 \n",
            " 1   Attrition                 1470 non-null   object\n",
            " 2   BusinessTravel            1470 non-null   object\n",
            " 3   Department                1470 non-null   object\n",
            " 4   DistanceFromHome          1470 non-null   int64 \n",
            " 5   Education                 1470 non-null   int64 \n",
            " 6   EducationField            1470 non-null   object\n",
            " 7   EmployeeNumber            1470 non-null   int64 \n",
            " 8   EnvironmentSatisfaction   1470 non-null   int64 \n",
            " 9   Gender                    1470 non-null   object\n",
            " 10  JobInvolvement            1470 non-null   int64 \n",
            " 11  JobLevel                  1470 non-null   int64 \n",
            " 12  JobRole                   1470 non-null   object\n",
            " 13  JobSatisfaction           1470 non-null   int64 \n",
            " 14  MaritalStatus             1470 non-null   object\n",
            " 15  MonthlyIncome             1470 non-null   int64 \n",
            " 16  NumCompaniesWorked        1470 non-null   int64 \n",
            " 17  PerformanceRating         1470 non-null   int64 \n",
            " 18  RelationshipSatisfaction  1470 non-null   int64 \n",
            " 19  StockOptionLevel          1470 non-null   int64 \n",
            " 20  TotalWorkingYears         1470 non-null   int64 \n",
            " 21  TrainingTimesLastYear     1470 non-null   int64 \n",
            " 22  WorkLifeBalance           1470 non-null   int64 \n",
            " 23  YearsAtCompany            1470 non-null   int64 \n",
            " 24  YearsInCurrentRole        1470 non-null   int64 \n",
            " 25  YearsSinceLastPromotion   1470 non-null   int64 \n",
            " 26  YearsWithCurrManager      1470 non-null   int64 \n",
            "dtypes: int64(20), object(7)\n",
            "memory usage: 321.6+ KB\n"
          ],
          "name": "stdout"
        }
      ]
    },
    {
      "cell_type": "code",
      "metadata": {
        "id": "mHsTyf977rq-",
        "colab_type": "code",
        "colab": {
          "base_uri": "https://localhost:8080/",
          "height": 272
        },
        "outputId": "a402de9a-5ccf-44f9-dcaf-51daa2d1d8fa"
      },
      "source": [
        "categorical_col = []\n",
        "numeric_col = []\n",
        "for col in raw_data.columns:\n",
        "    if raw_data[col].dtype == object and col != \"Attrition\":\n",
        "        categorical_col.append(col)\n",
        "        print(col, raw_data[col].unique())\n",
        "        print(\"========================================================================\")\n",
        "    elif raw_data[col].dtype == int and col != \"Attrition\":\n",
        "        numeric_col.append(col)"
      ],
      "execution_count": null,
      "outputs": [
        {
          "output_type": "stream",
          "text": [
            "BusinessTravel ['Travel_Rarely' 'Travel_Frequently' 'Non-Travel']\n",
            "========================================================================\n",
            "Department ['Sales' 'Research & Development' 'Human Resources']\n",
            "========================================================================\n",
            "EducationField ['Life Sciences' 'Other' 'Medical' 'Marketing' 'Technical Degree'\n",
            " 'Human Resources']\n",
            "========================================================================\n",
            "Gender ['Female' 'Male']\n",
            "========================================================================\n",
            "JobRole ['Sales Executive' 'Research Scientist' 'Laboratory Technician'\n",
            " 'Manufacturing Director' 'Healthcare Representative' 'Manager'\n",
            " 'Sales Representative' 'Research Director' 'Human Resources']\n",
            "========================================================================\n",
            "MaritalStatus ['Single' 'Married' 'Divorced']\n",
            "========================================================================\n"
          ],
          "name": "stdout"
        }
      ]
    },
    {
      "cell_type": "code",
      "metadata": {
        "id": "70446EcX7rrA",
        "colab_type": "code",
        "colab": {
          "base_uri": "https://localhost:8080/",
          "height": 68
        },
        "outputId": "a5aa39c2-803f-472b-b1de-92be1be0e98c"
      },
      "source": [
        "## Encode Label\n",
        "raw_data[\"Attrition\"] = raw_data[\"Attrition\"].astype(\"category\").cat.codes\n",
        "raw_data[\"Attrition\"].value_counts()"
      ],
      "execution_count": null,
      "outputs": [
        {
          "output_type": "execute_result",
          "data": {
            "text/plain": [
              "0    1233\n",
              "1     237\n",
              "Name: Attrition, dtype: int64"
            ]
          },
          "metadata": {
            "tags": []
          },
          "execution_count": 38
        }
      ]
    },
    {
      "cell_type": "code",
      "metadata": {
        "id": "W6_ho8ZB7rrC",
        "colab_type": "code",
        "colab": {
          "base_uri": "https://localhost:8080/",
          "height": 879
        },
        "outputId": "304163c7-e316-4be5-a17b-9301f0fcfe1c"
      },
      "source": [
        "## Data Visualization for numerical data\n",
        "raw_data[numeric_col].hist(edgecolor='black', linewidth=1.5, figsize=(18, 15))\n",
        "plt.show()"
      ],
      "execution_count": null,
      "outputs": [
        {
          "output_type": "display_data",
          "data": {
            "image/png": "[encoded data removed]",
            "text/plain": [
              "<Figure size 1296x1080 with 20 Axes>"
            ]
          },
          "metadata": {
            "tags": [],
            "needs_background": "light"
          }
        }
      ]
    },
    {
      "cell_type": "code",
      "metadata": {
        "id": "gX5XiCZv7rrF",
        "colab_type": "code",
        "colab": {
          "base_uri": "https://localhost:8080/",
          "height": 34
        },
        "outputId": "c2b6e49f-204e-46dd-86b3-d02a2be86b85"
      },
      "source": [
        "X = np.array(raw_data[\"TotalWorkingYears\"]).reshape(len(raw_data), 1)\n",
        "y = np.array(raw_data[\"MonthlyIncome\"])\n",
        "model = LinearRegression()\n",
        "model = model.fit(X, y)\n",
        "pred = model.predict(X)\n",
        "print(\"y = %f * X + %f\" % (model.coef_[0], model.intercept_))"
      ],
      "execution_count": null,
      "outputs": [
        {
          "output_type": "stream",
          "text": [
            "y = 467.658412 * X + 1227.935288\n"
          ],
          "name": "stdout"
        }
      ]
    },
    {
      "cell_type": "code",
      "metadata": {
        "id": "QRE0xU_h7rrH",
        "colab_type": "code",
        "colab": {
          "base_uri": "https://localhost:8080/",
          "height": 497
        },
        "outputId": "09e2a02a-70fe-4691-9b65-52b6576694bc"
      },
      "source": [
        "plt.figure(figsize=(10, 8))\n",
        "plt.scatter(raw_data[\"TotalWorkingYears\"], raw_data[\"MonthlyIncome\"])\n",
        "plt.plot(raw_data[\"TotalWorkingYears\"], pred, color=\"red\", linewidth = 3)\n",
        "plt.xlabel(\"TotalWorkingYears\")\n",
        "plt.ylabel(\"MonthlyIncome\")\n",
        "plt.show()"
      ],
      "execution_count": null,
      "outputs": [
        {
          "output_type": "display_data",
          "data": {
            "image/png": "[encoded data removed]",
            "text/plain": [
              "<Figure size 720x576 with 1 Axes>"
            ]
          },
          "metadata": {
            "tags": [],
            "needs_background": "light"
          }
        }
      ]
    },
    {
      "cell_type": "code",
      "metadata": {
        "id": "hREdxUBB7rrJ",
        "colab_type": "code",
        "colab": {
          "base_uri": "https://localhost:8080/",
          "height": 119
        },
        "outputId": "1648396d-6cc9-43df-a93a-9e27cb7ed70a"
      },
      "source": [
        "categorical_col"
      ],
      "execution_count": null,
      "outputs": [
        {
          "output_type": "execute_result",
          "data": {
            "text/plain": [
              "['BusinessTravel',\n",
              " 'Department',\n",
              " 'EducationField',\n",
              " 'Gender',\n",
              " 'JobRole',\n",
              " 'MaritalStatus']"
            ]
          },
          "metadata": {
            "tags": []
          },
          "execution_count": 42
        }
      ]
    },
    {
      "cell_type": "code",
      "metadata": {
        "id": "_P_8O28T7rrL",
        "colab_type": "code",
        "colab": {
          "base_uri": "https://localhost:8080/",
          "height": 543
        },
        "outputId": "52cc8f49-2ecc-4658-ee03-9c2f720ca052"
      },
      "source": [
        "## Data Visualization for categorical data\n",
        "fig, axes = plt.subplots(2, 3, figsize=(20, 10))\n",
        "for index, col in enumerate(categorical_col):\n",
        "    row_num = int(index / 3)\n",
        "    col_num = (index % 3)\n",
        "    label = list(raw_data[col].unique())\n",
        "    sns.countplot(x=str(col), hue=\"Attrition\", edgecolor=\".6\", data=raw_data, ax = axes[row_num, col_num])\n",
        "    axes[row_num, col_num].set_xticklabels(label, rotation=40)\n",
        "plt.tight_layout()\n",
        "plt.show()"
      ],
      "execution_count": null,
      "outputs": [
        {
          "output_type": "display_data",
          "data": {
            "image/png": "[encoded data removed]",
            "text/plain": [
              "<Figure size 1440x720 with 6 Axes>"
            ]
          },
          "metadata": {
            "tags": [],
            "needs_background": "light"
          }
        }
      ]
    },
    {
      "cell_type": "code",
      "metadata": {
        "id": "puWFw2ym7rrN",
        "colab_type": "code",
        "colab": {}
      },
      "source": [
        "## Data Encoding (one-hot encoding)\n",
        "one_hot_encoding_df = pd.get_dummies(raw_data, columns=categorical_col)"
      ],
      "execution_count": null,
      "outputs": []
    },
    {
      "cell_type": "code",
      "metadata": {
        "id": "01d49cUZ7rrP",
        "colab_type": "code",
        "colab": {
          "base_uri": "https://localhost:8080/",
          "height": 119
        },
        "outputId": "10ea4e26-8da4-4b52-9652-8893234d391a"
      },
      "source": [
        "categorical_col"
      ],
      "execution_count": null,
      "outputs": [
        {
          "output_type": "execute_result",
          "data": {
            "text/plain": [
              "['BusinessTravel',\n",
              " 'Department',\n",
              " 'EducationField',\n",
              " 'Gender',\n",
              " 'JobRole',\n",
              " 'MaritalStatus']"
            ]
          },
          "metadata": {
            "tags": []
          },
          "execution_count": 45
        }
      ]
    },
    {
      "cell_type": "code",
      "metadata": {
        "id": "X1h8sOVA7rrR",
        "colab_type": "code",
        "colab": {
          "base_uri": "https://localhost:8080/",
          "height": 476
        },
        "outputId": "02b45ea3-8197-4487-f643-5cd4814b24ff"
      },
      "source": [
        "set(one_hot_encoding_df.columns) - set(numeric_col)"
      ],
      "execution_count": null,
      "outputs": [
        {
          "output_type": "execute_result",
          "data": {
            "text/plain": [
              "{'Attrition',\n",
              " 'BusinessTravel_Non-Travel',\n",
              " 'BusinessTravel_Travel_Frequently',\n",
              " 'BusinessTravel_Travel_Rarely',\n",
              " 'Department_Human Resources',\n",
              " 'Department_Research & Development',\n",
              " 'Department_Sales',\n",
              " 'EducationField_Human Resources',\n",
              " 'EducationField_Life Sciences',\n",
              " 'EducationField_Marketing',\n",
              " 'EducationField_Medical',\n",
              " 'EducationField_Other',\n",
              " 'EducationField_Technical Degree',\n",
              " 'Gender_Female',\n",
              " 'Gender_Male',\n",
              " 'JobRole_Healthcare Representative',\n",
              " 'JobRole_Human Resources',\n",
              " 'JobRole_Laboratory Technician',\n",
              " 'JobRole_Manager',\n",
              " 'JobRole_Manufacturing Director',\n",
              " 'JobRole_Research Director',\n",
              " 'JobRole_Research Scientist',\n",
              " 'JobRole_Sales Executive',\n",
              " 'JobRole_Sales Representative',\n",
              " 'MaritalStatus_Divorced',\n",
              " 'MaritalStatus_Married',\n",
              " 'MaritalStatus_Single'}"
            ]
          },
          "metadata": {
            "tags": []
          },
          "execution_count": 46
        }
      ]
    },
    {
      "cell_type": "code",
      "metadata": {
        "id": "Bk_RALSy7rrT",
        "colab_type": "code",
        "colab": {
          "base_uri": "https://localhost:8080/",
          "height": 221
        },
        "outputId": "43c8055c-4312-4a5c-acbd-f6e8f97ee79f"
      },
      "source": [
        "## Data Splitting and Model Learning (Decision Tree)\n",
        "avg_acc = 0\n",
        "avg_precision = 0\n",
        "avg_recall = 0\n",
        "avg_f1 = 0\n",
        "avg_confusion_matrix = []\n",
        "avg_feature_importance = []\n",
        "\n",
        "kf = KFold(n_splits=5)\n",
        "fold_count = 0\n",
        "for train_index, test_index in kf.split(one_hot_encoding_df):\n",
        "    print(\"Training Data: %d, Testing Data: %d\" % (len(train_index), len(test_index)))\n",
        "    train_X = one_hot_encoding_df.loc[train_index, one_hot_encoding_df.columns != 'Attrition']\n",
        "    train_y = one_hot_encoding_df.loc[train_index][\"Attrition\"]\n",
        "    test_X = one_hot_encoding_df.loc[test_index, one_hot_encoding_df.columns != 'Attrition']\n",
        "    test_y = one_hot_encoding_df.loc[test_index][\"Attrition\"]\n",
        "    \n",
        "    model = DecisionTreeClassifier(random_state=200)\n",
        "    model = model.fit(train_X, train_y)\n",
        "    test_predict = model.predict(test_X)\n",
        "    avg_feature_importance.append(model.feature_importances_)\n",
        "    \n",
        "    acc, precision, recall, f1, matrix = evaluation(test_y, test_predict)\n",
        "    \n",
        "    print(\"Fold: %d, Accuracy: %f, Precision: %f, Recall: %f, F1: %f\" % (fold_count + 1, round(acc, 3), round(precision, 3), round(recall, 3), round(f1, 3)))\n",
        "    avg_acc += acc\n",
        "    avg_precision += precision\n",
        "    avg_recall += recall\n",
        "    avg_f1 += f1\n",
        "    avg_confusion_matrix.append(matrix)\n",
        "    fold_count += 1\n",
        "\n",
        "print(\"=================================================================================\")\n",
        "print(\"Avg Accuracy: %f, Avg Precision: %f, Avg Recall: %f, Avg F1: %f\" % (round(avg_acc / kf.get_n_splits(), 3), \\\n",
        "                                                                           round(avg_precision / kf.get_n_splits(), 3), \\\n",
        "                                                                           round(avg_recall / kf.get_n_splits(), 3), \\\n",
        "                                                                           round(avg_f1 / kf.get_n_splits(), 3)))"
      ],
      "execution_count": null,
      "outputs": [
        {
          "output_type": "stream",
          "text": [
            "Training Data: 1176, Testing Data: 294\n",
            "Fold: 1, Accuracy: 0.752000, Precision: 0.268000, Recall: 0.319000, F1: 0.291000\n",
            "Training Data: 1176, Testing Data: 294\n",
            "Fold: 2, Accuracy: 0.789000, Precision: 0.333000, Recall: 0.442000, F1: 0.380000\n",
            "Training Data: 1176, Testing Data: 294\n",
            "Fold: 3, Accuracy: 0.741000, Precision: 0.311000, Recall: 0.237000, F1: 0.269000\n",
            "Training Data: 1176, Testing Data: 294\n",
            "Fold: 4, Accuracy: 0.738000, Precision: 0.233000, Recall: 0.311000, F1: 0.267000\n",
            "Training Data: 1176, Testing Data: 294\n",
            "Fold: 5, Accuracy: 0.670000, Precision: 0.235000, Recall: 0.558000, F1: 0.331000\n",
            "=================================================================================\n",
            "Avg Accuracy: 0.738000, Avg Precision: 0.276000, Avg Recall: 0.374000, Avg F1: 0.308000\n"
          ],
          "name": "stdout"
        }
      ]
    },
    {
      "cell_type": "code",
      "metadata": {
        "id": "JVPXvsoD7rrV",
        "colab_type": "code",
        "colab": {
          "base_uri": "https://localhost:8080/",
          "height": 483
        },
        "outputId": "f60da121-2847-47e6-e150-7170531f8fd6"
      },
      "source": [
        "plt.figure(figsize=(10, 8))\n",
        "sns.heatmap(np.sum(np.array(avg_confusion_matrix), axis=0), annot=True, fmt=\"d\")\n",
        "plt.show()"
      ],
      "execution_count": null,
      "outputs": [
        {
          "output_type": "display_data",
          "data": {
            "image/png": "[encoded data removed]",
            "text/plain": [
              "<Figure size 720x576 with 2 Axes>"
            ]
          },
          "metadata": {
            "tags": [],
            "needs_background": "light"
          }
        }
      ]
    },
    {
      "cell_type": "code",
      "metadata": {
        "id": "JgvirpsA7rrY",
        "colab_type": "code",
        "colab": {
          "base_uri": "https://localhost:8080/",
          "height": 187
        },
        "outputId": "1646d987-a6a9-4af9-9913-9bfd5385df53"
      },
      "source": [
        "importance_dict = {}\n",
        "for col, importance in zip(train_X.columns, np.mean(np.array(avg_feature_importance), axis=0)):\n",
        "    importance_dict[col] = importance\n",
        "\n",
        "sorted(importance_dict.items(), key=lambda x: -x[1])[:10]"
      ],
      "execution_count": null,
      "outputs": [
        {
          "output_type": "execute_result",
          "data": {
            "text/plain": [
              "[('MonthlyIncome', 0.10020746536225093),\n",
              " ('TotalWorkingYears', 0.08286263996666518),\n",
              " ('Age', 0.07866270282338719),\n",
              " ('DistanceFromHome', 0.07651699500507207),\n",
              " ('EmployeeNumber', 0.06251880620094238),\n",
              " ('NumCompaniesWorked', 0.054148502062084915),\n",
              " ('TrainingTimesLastYear', 0.04497546911268388),\n",
              " ('JobInvolvement', 0.03828324416180727),\n",
              " ('StockOptionLevel', 0.035453500524868876),\n",
              " ('JobSatisfaction', 0.03481479445074119)]"
            ]
          },
          "metadata": {
            "tags": []
          },
          "execution_count": 49
        }
      ]
    },
    {
      "cell_type": "code",
      "metadata": {
        "id": "cnpakQJi7rra",
        "colab_type": "code",
        "colab": {
          "base_uri": "https://localhost:8080/",
          "height": 221
        },
        "outputId": "77c2f937-309c-4664-b6a0-90d6ec169eab"
      },
      "source": [
        "## Data Splitting and Model Learning (Random Forest)\n",
        "avg_acc = 0\n",
        "avg_precision = 0\n",
        "avg_recall = 0\n",
        "avg_f1 = 0\n",
        "avg_confusion_matrix = []\n",
        "avg_feature_importance = []\n",
        "\n",
        "kf = KFold(n_splits=5)\n",
        "fold_count = 0\n",
        "for train_index, test_index in kf.split(one_hot_encoding_df):\n",
        "    print(\"Training Data: %d, Testing Data: %d\" % (len(train_index), len(test_index)))\n",
        "    train_X = one_hot_encoding_df.loc[train_index, one_hot_encoding_df.columns != 'Attrition']\n",
        "    train_y = one_hot_encoding_df.loc[train_index][\"Attrition\"]\n",
        "    test_X = one_hot_encoding_df.loc[test_index, one_hot_encoding_df.columns != 'Attrition']\n",
        "    test_y = one_hot_encoding_df.loc[test_index][\"Attrition\"]\n",
        "    \n",
        "    model = RandomForestClassifier(n_estimators=300)\n",
        "    model = model.fit(train_X, train_y)\n",
        "    test_predict = model.predict(test_X)\n",
        "    \n",
        "    avg_feature_importance.append(model.feature_importances_)\n",
        "    \n",
        "    acc, precision, recall, f1, matrix = evaluation(test_y, test_predict)\n",
        "    print(\"Fold: %d, Accuracy: %f, Precision: %f, Recall: %f, F1: %f\" % (fold_count + 1, round(acc, 3), round(precision, 3), round(recall, 3), round(f1, 3)))\n",
        "    avg_acc += acc\n",
        "    avg_precision += precision\n",
        "    avg_recall += recall\n",
        "    avg_f1 += f1\n",
        "    avg_confusion_matrix.append(matrix)\n",
        "    fold_count += 1\n",
        "\n",
        "print(\"=================================================================================\")\n",
        "print(\"Avg Accuracy: %f, Avg Precision: %f, Avg Recall: %f, Avg F1: %f\" % (round(avg_acc / kf.get_n_splits(), 3), \\\n",
        "                                                                           round(avg_precision / kf.get_n_splits(), 3), \\\n",
        "                                                                           round(avg_recall / kf.get_n_splits(), 3), \\\n",
        "                                                                           round(avg_f1 / kf.get_n_splits(), 3)))"
      ],
      "execution_count": null,
      "outputs": [
        {
          "output_type": "stream",
          "text": [
            "Training Data: 1176, Testing Data: 294\n",
            "Fold: 1, Accuracy: 0.847000, Precision: 0.625000, Recall: 0.106000, F1: 0.182000\n",
            "Training Data: 1176, Testing Data: 294\n",
            "Fold: 2, Accuracy: 0.867000, Precision: 0.667000, Recall: 0.186000, F1: 0.291000\n",
            "Training Data: 1176, Testing Data: 294\n",
            "Fold: 3, Accuracy: 0.803000, Precision: 0.600000, Recall: 0.051000, F1: 0.094000\n",
            "Training Data: 1176, Testing Data: 294\n",
            "Fold: 4, Accuracy: 0.864000, Precision: 0.857000, Recall: 0.133000, F1: 0.231000\n",
            "Training Data: 1176, Testing Data: 294\n",
            "Fold: 5, Accuracy: 0.867000, Precision: 0.833000, Recall: 0.116000, F1: 0.204000\n",
            "=================================================================================\n",
            "Avg Accuracy: 0.850000, Avg Precision: 0.716000, Avg Recall: 0.119000, Avg F1: 0.200000\n"
          ],
          "name": "stdout"
        }
      ]
    },
    {
      "cell_type": "markdown",
      "metadata": {
        "id": "pRkVrgZfRpr2",
        "colab_type": "text"
      },
      "source": [
        "#my_add for Random Forest"
      ]
    },
    {
      "cell_type": "code",
      "metadata": {
        "id": "IBfCDvA6R0cl",
        "colab_type": "code",
        "colab": {
          "base_uri": "https://localhost:8080/",
          "height": 221
        },
        "outputId": "a51c6652-b705-48bb-f410-dcf61a547f38"
      },
      "source": [
        "## Data Splitting and Model Learning (Random Forest)\n",
        "avg_acc = 0\n",
        "avg_precision = 0\n",
        "avg_recall = 0\n",
        "avg_f1 = 0\n",
        "avg_confusion_matrix = []\n",
        "avg_feature_importance = []\n",
        "\n",
        "kf = KFold(n_splits=5)\n",
        "fold_count = 0\n",
        "for train_index, test_index in kf.split(one_hot_encoding_df):\n",
        "    print(\"Training Data: %d, Testing Data: %d\" % (len(train_index), len(test_index)))\n",
        "    train_X = one_hot_encoding_df.loc[train_index, one_hot_encoding_df.columns != 'Attrition']\n",
        "    train_y = one_hot_encoding_df.loc[train_index][\"Attrition\"]\n",
        "    test_X = one_hot_encoding_df.loc[test_index, one_hot_encoding_df.columns != 'Attrition']\n",
        "    test_y = one_hot_encoding_df.loc[test_index][\"Attrition\"]\n",
        "    \n",
        "    #my_add\n",
        "    model = RandomForestClassifier(n_estimators=100, max_depth=6, min_samples_split=10, class_weight=\"balanced\",random_state=300)\n",
        "    model = model.fit(train_X, train_y)\n",
        "    test_predict = model.predict(test_X)\n",
        "    \n",
        "    avg_feature_importance.append(model.feature_importances_)\n",
        "    \n",
        "    acc, precision, recall, f1, matrix = evaluation(test_y, test_predict)\n",
        "    print(\"Fold: %d, Accuracy: %f, Precision: %f, Recall: %f, F1: %f\" % (fold_count + 1, round(acc, 3), round(precision, 3), round(recall, 3), round(f1, 3)))\n",
        "    avg_acc += acc\n",
        "    avg_precision += precision\n",
        "    avg_recall += recall\n",
        "    avg_f1 += f1\n",
        "    avg_confusion_matrix.append(matrix)\n",
        "    fold_count += 1\n",
        "\n",
        "print(\"=================================================================================\")\n",
        "print(\"Avg Accuracy: %f, Avg Precision: %f, Avg Recall: %f, Avg F1: %f\" % (round(avg_acc / kf.get_n_splits(), 3), \\\n",
        "                                                                           round(avg_precision / kf.get_n_splits(), 3), \\\n",
        "                                                                           round(avg_recall / kf.get_n_splits(), 3), \\\n",
        "                                                                           round(avg_f1 / kf.get_n_splits(), 3)))"
      ],
      "execution_count": null,
      "outputs": [
        {
          "output_type": "stream",
          "text": [
            "Training Data: 1176, Testing Data: 294\n",
            "Fold: 1, Accuracy: 0.823000, Precision: 0.414000, Recall: 0.255000, F1: 0.316000\n",
            "Training Data: 1176, Testing Data: 294\n",
            "Fold: 2, Accuracy: 0.820000, Precision: 0.391000, Recall: 0.419000, F1: 0.404000\n",
            "Training Data: 1176, Testing Data: 294\n",
            "Fold: 3, Accuracy: 0.799000, Precision: 0.500000, Recall: 0.441000, F1: 0.468000\n",
            "Training Data: 1176, Testing Data: 294\n",
            "Fold: 4, Accuracy: 0.806000, Precision: 0.389000, Recall: 0.467000, F1: 0.424000\n",
            "Training Data: 1176, Testing Data: 294\n",
            "Fold: 5, Accuracy: 0.833000, Precision: 0.425000, Recall: 0.395000, F1: 0.410000\n",
            "=================================================================================\n",
            "Avg Accuracy: 0.816000, Avg Precision: 0.424000, Avg Recall: 0.395000, Avg F1: 0.405000\n"
          ],
          "name": "stdout"
        }
      ]
    },
    {
      "cell_type": "code",
      "metadata": {
        "id": "Osq1ixqb7rrd",
        "colab_type": "code",
        "colab": {
          "base_uri": "https://localhost:8080/",
          "height": 483
        },
        "outputId": "76fe919a-86dc-4c47-aa73-d6cf483a3e2f"
      },
      "source": [
        "plt.figure(figsize=(10, 8))\n",
        "sns.heatmap(np.sum(np.array(avg_confusion_matrix), axis=0), annot=True, fmt=\"d\")\n",
        "plt.show()"
      ],
      "execution_count": null,
      "outputs": [
        {
          "output_type": "display_data",
          "data": {
            "image/png": "[encoded data removed]",
            "text/plain": [
              "<Figure size 720x576 with 2 Axes>"
            ]
          },
          "metadata": {
            "tags": [],
            "needs_background": "light"
          }
        }
      ]
    },
    {
      "cell_type": "code",
      "metadata": {
        "id": "ViqZo_BL7rrf",
        "colab_type": "code",
        "colab": {
          "base_uri": "https://localhost:8080/",
          "height": 187
        },
        "outputId": "07b0c113-8c9b-4956-edff-35c4847972a8"
      },
      "source": [
        "importance_dict = {}\n",
        "for col, importance in zip(train_X.columns, np.mean(np.array(avg_feature_importance), axis=0)):\n",
        "    importance_dict[col] = importance\n",
        "\n",
        "sorted(importance_dict.items(), key=lambda x: -x[1])[:10]"
      ],
      "execution_count": null,
      "outputs": [
        {
          "output_type": "execute_result",
          "data": {
            "text/plain": [
              "[('MonthlyIncome', 0.08020324282481127),\n",
              " ('Age', 0.07127947662915259),\n",
              " ('EmployeeNumber', 0.06349458595142746),\n",
              " ('DistanceFromHome', 0.055139080171672884),\n",
              " ('TotalWorkingYears', 0.05402840306772755),\n",
              " ('YearsAtCompany', 0.04923600264065607),\n",
              " ('NumCompaniesWorked', 0.039870193330865625),\n",
              " ('YearsWithCurrManager', 0.03609095101952426),\n",
              " ('EnvironmentSatisfaction', 0.03422765012072527),\n",
              " ('YearsInCurrentRole', 0.03401761560021972)]"
            ]
          },
          "metadata": {
            "tags": []
          },
          "execution_count": 70
        }
      ]
    },
    {
      "cell_type": "code",
      "metadata": {
        "id": "Zxn_K0Ho7rrg",
        "colab_type": "code",
        "colab": {
          "base_uri": "https://localhost:8080/",
          "height": 221
        },
        "outputId": "c3d1dbac-7c8e-4181-9006-57e60dd2a078"
      },
      "source": [
        "## Data Splitting and Model Learning (Logistic Regression)\n",
        "avg_acc = 0\n",
        "avg_precision = 0\n",
        "avg_recall = 0\n",
        "avg_f1 = 0\n",
        "avg_feature_importance = []\n",
        "avg_confusion_matrix = []\n",
        "\n",
        "kf = KFold(n_splits=5)\n",
        "fold_count = 0\n",
        "for train_index, test_index in kf.split(one_hot_encoding_df):\n",
        "    print(\"Training Data: %d, Testing Data: %d\" % (len(train_index), len(test_index)))\n",
        "    train_X = one_hot_encoding_df.loc[train_index, one_hot_encoding_df.columns != 'Attrition']\n",
        "    train_y = one_hot_encoding_df.loc[train_index][\"Attrition\"]\n",
        "    test_X = one_hot_encoding_df.loc[test_index, one_hot_encoding_df.columns != 'Attrition']\n",
        "    test_y = one_hot_encoding_df.loc[test_index][\"Attrition\"]\n",
        "    \n",
        "    model = LogisticRegression(solver='liblinear')\n",
        "    model = model.fit(train_X, train_y)\n",
        "    test_predict = model.predict(test_X)\n",
        "    \n",
        "    acc, precision, recall, f1, matrix = evaluation(test_y, test_predict)\n",
        "    print(\"Fold: %d, Accuracy: %f, Precision: %f, Recall: %f, F1: %f\" % (fold_count + 1, round(acc, 3), round(precision, 3), round(recall, 3), round(f1, 3)))\n",
        "    avg_acc += acc\n",
        "    avg_precision += precision\n",
        "    avg_recall += recall\n",
        "    avg_f1 += f1\n",
        "    avg_confusion_matrix.append(matrix)\n",
        "    fold_count += 1\n",
        "\n",
        "print(\"=================================================================================\")\n",
        "print(\"Avg Accuracy: %f, Avg Precision: %f, Avg Recall: %f, Avg F1: %f\" % (round(avg_acc / kf.get_n_splits(), 3), \\\n",
        "                                                                           round(avg_precision / kf.get_n_splits(), 3), \\\n",
        "                                                                           round(avg_recall / kf.get_n_splits(), 3), \\\n",
        "                                                                           round(avg_f1 / kf.get_n_splits(), 3)))"
      ],
      "execution_count": null,
      "outputs": [
        {
          "output_type": "stream",
          "text": [
            "Training Data: 1176, Testing Data: 294\n",
            "Fold: 1, Accuracy: 0.854000, Precision: 0.833000, Recall: 0.106000, F1: 0.189000\n",
            "Training Data: 1176, Testing Data: 294\n",
            "Fold: 2, Accuracy: 0.867000, Precision: 0.643000, Recall: 0.209000, F1: 0.316000\n",
            "Training Data: 1176, Testing Data: 294\n",
            "Fold: 3, Accuracy: 0.810000, Precision: 0.615000, Recall: 0.136000, F1: 0.222000\n",
            "Training Data: 1176, Testing Data: 294\n",
            "Fold: 4, Accuracy: 0.878000, Precision: 0.846000, Recall: 0.244000, F1: 0.379000\n",
            "Training Data: 1176, Testing Data: 294\n",
            "Fold: 5, Accuracy: 0.884000, Precision: 0.765000, Recall: 0.302000, F1: 0.433000\n",
            "=================================================================================\n",
            "Avg Accuracy: 0.859000, Avg Precision: 0.740000, Avg Recall: 0.200000, Avg F1: 0.308000\n"
          ],
          "name": "stdout"
        }
      ]
    },
    {
      "cell_type": "code",
      "metadata": {
        "id": "i4XtoJEO7rri",
        "colab_type": "code",
        "colab": {
          "base_uri": "https://localhost:8080/",
          "height": 483
        },
        "outputId": "da354890-d145-467e-ced0-dddbc56fa993"
      },
      "source": [
        "plt.figure(figsize=(10, 8))\n",
        "sns.heatmap(np.sum(np.array(avg_confusion_matrix), axis=0), annot=True, fmt=\"d\")\n",
        "plt.show()"
      ],
      "execution_count": null,
      "outputs": [
        {
          "output_type": "display_data",
          "data": {
            "image/png": "[encoded data removed]",
            "text/plain": [
              "<Figure size 720x576 with 2 Axes>"
            ]
          },
          "metadata": {
            "tags": [],
            "needs_background": "light"
          }
        }
      ]
    },
    {
      "cell_type": "markdown",
      "metadata": {
        "id": "ETnnaMfWFgdI",
        "colab_type": "text"
      },
      "source": [
        "#my_add for Gradient Boosting"
      ]
    },
    {
      "cell_type": "code",
      "metadata": {
        "id": "208jBn8B7rrk",
        "colab_type": "code",
        "colab": {
          "base_uri": "https://localhost:8080/",
          "height": 233
        },
        "outputId": "1fab0d87-4c09-4b32-859b-4da8747f8261"
      },
      "source": [
        "## Data Splitting and Model Learning (Gradient Boosting)\n",
        "\n",
        "avg_acc = 0\n",
        "avg_precision = 0\n",
        "avg_recall = 0\n",
        "avg_f1 = 0\n",
        "avg_feature_importance = []\n",
        "avg_confusion_matrix = []\n",
        "\n",
        "kf = KFold(n_splits=5)\n",
        "fold_count = 0\n",
        "for train_index, test_index in kf.split(one_hot_encoding_df):\n",
        "    print(\"Training Data: %d, Testing Data: %d\" % (len(train_index), len(test_index)))\n",
        "    train_X = one_hot_encoding_df.loc[train_index, one_hot_encoding_df.columns != 'Attrition']\n",
        "    train_y = one_hot_encoding_df.loc[train_index][\"Attrition\"]\n",
        "    test_X = one_hot_encoding_df.loc[test_index, one_hot_encoding_df.columns != 'Attrition']\n",
        "    test_y = one_hot_encoding_df.loc[test_index][\"Attrition\"]\n",
        "    \n",
        "    model = GradientBoostingClassifier(n_estimators=900,learning_rate=0.1,random_state=100,max_features=4 )\n",
        "    model = model.fit(train_X, train_y)\n",
        "    test_predict = model.predict(test_X)\n",
        "    \n",
        "    acc, precision, recall, f1, matrix = evaluation(test_y, test_predict)\n",
        "    print(\"Fold: %d, Accuracy: %f, Precision: %f, Recall: %f, F1: %f\" % (fold_count + 1, round(acc, 3), round(precision, 3), round(recall, 3), round(f1, 3)))\n",
        "    avg_acc += acc\n",
        "    avg_precision += precision\n",
        "    avg_recall += recall\n",
        "    avg_f1 += f1\n",
        "    avg_confusion_matrix.append(matrix)\n",
        "    fold_count += 1\n",
        "\n",
        "print(\"=================================================================================\")\n",
        "print(\"Avg Accuracy: %f, Avg Precision: %f, Avg Recall: %f, Avg F1: %f\" % (round(avg_acc / kf.get_n_splits(), 3), \\\n",
        "                                                                           round(avg_precision / kf.get_n_splits(), 3), \\\n",
        "                                                                           round(avg_recall / kf.get_n_splits(), 3), \\\n",
        "                                                                           round(avg_f1 / kf.get_n_splits(), 3)))"
      ],
      "execution_count": null,
      "outputs": [
        {
          "output_type": "stream",
          "text": [
            "Training Data: 1176, Testing Data: 294\n",
            "Fold: 1, Accuracy: 0.867000, Precision: 0.750000, Recall: 0.255000, F1: 0.381000\n",
            "Training Data: 1176, Testing Data: 294\n",
            "Fold: 2, Accuracy: 0.867000, Precision: 0.562000, Recall: 0.419000, F1: 0.480000\n",
            "Training Data: 1176, Testing Data: 294\n",
            "Fold: 3, Accuracy: 0.813000, Precision: 0.571000, Recall: 0.271000, F1: 0.368000\n",
            "Training Data: 1176, Testing Data: 294\n",
            "Fold: 4, Accuracy: 0.864000, Precision: 0.586000, Recall: 0.378000, F1: 0.459000\n",
            "Training Data: 1176, Testing Data: 294\n",
            "Fold: 5, Accuracy: 0.888000, Precision: 0.750000, Recall: 0.349000, F1: 0.476000\n",
            "=================================================================================\n",
            "Avg Accuracy: 0.860000, Avg Precision: 0.644000, Avg Recall: 0.334000, Avg F1: 0.433000\n"
          ],
          "name": "stdout"
        }
      ]
    },
    {
      "cell_type": "code",
      "metadata": {
        "id": "3tBoEwk_a3aH",
        "colab_type": "code",
        "colab": {
          "base_uri": "https://localhost:8080/",
          "height": 483
        },
        "outputId": "a6c67e17-6090-475c-dc0d-b0cca275ac6f"
      },
      "source": [
        "plt.figure(figsize=(10, 8))\n",
        "sns.heatmap(np.sum(np.array(avg_confusion_matrix), axis=0), annot=True, fmt=\"d\")\n",
        "plt.show()"
      ],
      "execution_count": null,
      "outputs": [
        {
          "output_type": "display_data",
          "data": {
            "image/png": "[encoded data removed]",
            "text/plain": [
              "<Figure size 720x576 with 2 Axes>"
            ]
          },
          "metadata": {
            "tags": [],
            "needs_background": "light"
          }
        }
      ]
    },
    {
      "cell_type": "markdown",
      "metadata": {
        "colab_type": "text",
        "id": "TUO6UhbFNUB7"
      },
      "source": [
        "#my_add for KNN"
      ]
    },
    {
      "cell_type": "code",
      "metadata": {
        "colab_type": "code",
        "id": "ZOd4sOzfNYuQ",
        "colab": {
          "base_uri": "https://localhost:8080/",
          "height": 233
        },
        "outputId": "f67b2fbf-ef2e-423f-d9a5-661bb5245e80"
      },
      "source": [
        "## Data Splitting and Model Learning (K Nearest Neighbor)\n",
        "\n",
        "avg_acc = 0\n",
        "avg_precision = 0\n",
        "avg_recall = 0\n",
        "avg_f1 = 0\n",
        "avg_feature_importance = []\n",
        "avg_confusion_matrix = []\n",
        "\n",
        "kf = KFold(n_splits=5)\n",
        "fold_count = 0\n",
        "for train_index, test_index in kf.split(one_hot_encoding_df):\n",
        "    print(\"Training Data: %d, Testing Data: %d\" % (len(train_index), len(test_index)))\n",
        "    train_X = one_hot_encoding_df.loc[train_index, one_hot_encoding_df.columns != 'Attrition']\n",
        "    train_y = one_hot_encoding_df.loc[train_index][\"Attrition\"]\n",
        "    test_X = one_hot_encoding_df.loc[test_index, one_hot_encoding_df.columns != 'Attrition']\n",
        "    test_y = one_hot_encoding_df.loc[test_index][\"Attrition\"]\n",
        "    \n",
        "    model = KNeighborsClassifier(n_neighbors=1, weights='distance', algorithm='kd_tree', leaf_size=30, p=2, metric='minkowski')\n",
        "    model = model.fit(train_X, train_y)\n",
        "    test_predict = model.predict(test_X)\n",
        "    \n",
        "    acc, precision, recall, f1, matrix = evaluation(test_y, test_predict)\n",
        "    print(\"Fold: %d, Accuracy: %f, Precision: %f, Recall: %f, F1: %f\" % (fold_count + 1, round(acc, 3), round(precision, 3), round(recall, 3), round(f1, 3)))\n",
        "    avg_acc += acc\n",
        "    avg_precision += precision\n",
        "    avg_recall += recall\n",
        "    avg_f1 += f1\n",
        "    avg_confusion_matrix.append(matrix)\n",
        "    fold_count += 1\n",
        "\n",
        "print(\"=================================================================================\")\n",
        "print(\"Avg Accuracy: %f, Avg Precision: %f, Avg Recall: %f, Avg F1: %f\" % (round(avg_acc / kf.get_n_splits(), 3), \\\n",
        "                                                                           round(avg_precision / kf.get_n_splits(), 3), \\\n",
        "                                                                           round(avg_recall / kf.get_n_splits(), 3), \\\n",
        "                                                                           round(avg_f1 / kf.get_n_splits(), 3)))"
      ],
      "execution_count": null,
      "outputs": [
        {
          "output_type": "stream",
          "text": [
            "Training Data: 1176, Testing Data: 294\n",
            "Fold: 1, Accuracy: 0.776000, Precision: 0.298000, Recall: 0.298000, F1: 0.298000\n",
            "Training Data: 1176, Testing Data: 294\n",
            "Fold: 2, Accuracy: 0.741000, Precision: 0.211000, Recall: 0.279000, F1: 0.240000\n",
            "Training Data: 1176, Testing Data: 294\n",
            "Fold: 3, Accuracy: 0.728000, Precision: 0.111000, Recall: 0.051000, F1: 0.070000\n",
            "Training Data: 1176, Testing Data: 294\n",
            "Fold: 4, Accuracy: 0.748000, Precision: 0.163000, Recall: 0.156000, F1: 0.159000\n",
            "Training Data: 1176, Testing Data: 294\n",
            "Fold: 5, Accuracy: 0.755000, Precision: 0.236000, Recall: 0.302000, F1: 0.265000\n",
            "=================================================================================\n",
            "Avg Accuracy: 0.750000, Avg Precision: 0.204000, Avg Recall: 0.217000, Avg F1: 0.206000\n"
          ],
          "name": "stdout"
        }
      ]
    },
    {
      "cell_type": "code",
      "metadata": {
        "id": "gZbNmfSna5xj",
        "colab_type": "code",
        "colab": {
          "base_uri": "https://localhost:8080/",
          "height": 483
        },
        "outputId": "5edc55e3-4556-4988-e5ac-c39498fe3a0f"
      },
      "source": [
        "plt.figure(figsize=(10, 8))\n",
        "sns.heatmap(np.sum(np.array(avg_confusion_matrix), axis=0), annot=True, fmt=\"d\")\n",
        "plt.show()"
      ],
      "execution_count": null,
      "outputs": [
        {
          "output_type": "display_data",
          "data": {
            "image/png": "[encoded data removed]",
            "text/plain": [
              "<Figure size 720x576 with 2 Axes>"
            ]
          },
          "metadata": {
            "tags": [],
            "needs_background": "light"
          }
        }
      ]
    },
    {
      "cell_type": "markdown",
      "metadata": {
        "id": "apciC_XgToMf",
        "colab_type": "text"
      },
      "source": [
        "#my_add for AdaBoosting"
      ]
    },
    {
      "cell_type": "code",
      "metadata": {
        "id": "Y5XPGgjXTomc",
        "colab_type": "code",
        "colab": {
          "base_uri": "https://localhost:8080/",
          "height": 221
        },
        "outputId": "beec1582-a4c5-4e61-838c-56ca4fcdb992"
      },
      "source": [
        "## Data Splitting and Model Learning (Adaptive Boosting)\n",
        "\n",
        "avg_acc = 0\n",
        "avg_precision = 0\n",
        "avg_recall = 0\n",
        "avg_f1 = 0\n",
        "avg_feature_importance = []\n",
        "avg_confusion_matrix = []\n",
        "\n",
        "kf = KFold(n_splits=5)\n",
        "fold_count = 0\n",
        "for train_index, test_index in kf.split(one_hot_encoding_df):\n",
        "    print(\"Training Data: %d, Testing Data: %d\" % (len(train_index), len(test_index)))\n",
        "    train_X = one_hot_encoding_df.loc[train_index, one_hot_encoding_df.columns != 'Attrition']\n",
        "    train_y = one_hot_encoding_df.loc[train_index][\"Attrition\"]\n",
        "    test_X = one_hot_encoding_df.loc[test_index, one_hot_encoding_df.columns != 'Attrition']\n",
        "    test_y = one_hot_encoding_df.loc[test_index][\"Attrition\"]\n",
        "    \n",
        "    model = AdaBoostClassifier(n_estimators=450, learning_rate=0.3)\n",
        "    model = model.fit(train_X, train_y)\n",
        "    test_predict = model.predict(test_X)\n",
        "    \n",
        "    acc, precision, recall, f1, matrix = evaluation(test_y, test_predict)\n",
        "    print(\"Fold: %d, Accuracy: %f, Precision: %f, Recall: %f, F1: %f\" % (fold_count + 1, round(acc, 3), round(precision, 3), round(recall, 3), round(f1, 3)))\n",
        "    avg_acc += acc\n",
        "    avg_precision += precision\n",
        "    avg_recall += recall\n",
        "    avg_f1 += f1\n",
        "    avg_confusion_matrix.append(matrix)\n",
        "    fold_count += 1\n",
        "\n",
        "print(\"=================================================================================\")\n",
        "print(\"Avg Accuracy: %f, Avg Precision: %f, Avg Recall: %f, Avg F1: %f\" % (round(avg_acc / kf.get_n_splits(), 3), \\\n",
        "                                                                           round(avg_precision / kf.get_n_splits(), 3), \\\n",
        "                                                                           round(avg_recall / kf.get_n_splits(), 3), \\\n",
        "                                                                           round(avg_f1 / kf.get_n_splits(), 3)))"
      ],
      "execution_count": null,
      "outputs": [
        {
          "output_type": "stream",
          "text": [
            "Training Data: 1176, Testing Data: 294\n",
            "Fold: 1, Accuracy: 0.857000, Precision: 1.000000, Recall: 0.106000, F1: 0.192000\n",
            "Training Data: 1176, Testing Data: 294\n",
            "Fold: 2, Accuracy: 0.871000, Precision: 0.576000, Recall: 0.442000, F1: 0.500000\n",
            "Training Data: 1176, Testing Data: 294\n",
            "Fold: 3, Accuracy: 0.830000, Precision: 0.655000, Recall: 0.322000, F1: 0.432000\n",
            "Training Data: 1176, Testing Data: 294\n",
            "Fold: 4, Accuracy: 0.878000, Precision: 0.645000, Recall: 0.444000, F1: 0.526000\n",
            "Training Data: 1176, Testing Data: 294\n",
            "Fold: 5, Accuracy: 0.878000, Precision: 0.733000, Recall: 0.256000, F1: 0.379000\n",
            "=================================================================================\n",
            "Avg Accuracy: 0.863000, Avg Precision: 0.722000, Avg Recall: 0.314000, Avg F1: 0.406000\n"
          ],
          "name": "stdout"
        }
      ]
    },
    {
      "cell_type": "code",
      "metadata": {
        "id": "vCnmINR5ayal",
        "colab_type": "code",
        "colab": {
          "base_uri": "https://localhost:8080/",
          "height": 483
        },
        "outputId": "8db2c78d-ad5b-4edc-bf1f-21735e875cd4"
      },
      "source": [
        "plt.figure(figsize=(10, 8))\n",
        "sns.heatmap(np.sum(np.array(avg_confusion_matrix), axis=0), annot=True, fmt=\"d\")\n",
        "plt.show()"
      ],
      "execution_count": null,
      "outputs": [
        {
          "output_type": "display_data",
          "data": {
            "image/png": "[encoded data removed]",
            "text/plain": [
              "<Figure size 720x576 with 2 Axes>"
            ]
          },
          "metadata": {
            "tags": [],
            "needs_background": "light"
          }
        }
      ]
    }
  ]
}